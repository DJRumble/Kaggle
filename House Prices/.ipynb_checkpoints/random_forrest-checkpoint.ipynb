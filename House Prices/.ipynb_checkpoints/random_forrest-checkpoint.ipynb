{
 "cells": [
  {
   "cell_type": "code",
   "execution_count": 6,
   "metadata": {
    "collapsed": false
   },
   "outputs": [],
   "source": [
    "import pandas as pd\n",
    "import numpy as np\n",
    "\n",
    "# Import the random forest package\n",
    "from sklearn.ensemble import RandomForestClassifier\n",
    "from sklearn.ensemble import RandomForestRegressor\n",
    "from sklearn.feature_selection import SelectKBest, f_classif\n",
    "from sklearn import cross_validation\n",
    "from sklearn.cross_validation import KFold\n",
    "import sklearn.metrics as metric\n",
    "from scipy.stats import chisquare\n",
    "\n",
    "\n"
   ]
  },
  {
   "cell_type": "code",
   "execution_count": 7,
   "metadata": {
    "collapsed": true
   },
   "outputs": [],
   "source": [
    "def RF(X_train,Y_train,N):\n",
    "    '''\n",
    "    Randon Forest via regressor function\n",
    "    Input:\n",
    "    x_train = predictor data\n",
    "    y_train = attribute data (customer value)\n",
    "    N = number of estimators\n",
    "    Output:\n",
    "    alg = the trained RF model (to be applied to the test set)\n",
    "    Y_hat = predictions based on the train data\n",
    "    '''\n",
    "    #Train the algorithm on the train data\n",
    "    alg = RandomForestRegressor(n_estimators=N, min_samples_split=2, min_samples_leaf=1)\n",
    "    alg.fit(X_train, Y_train)\n",
    "    #Use trained algorithm to create prediction of the trian\n",
    "    Y_hat = alg.predict(X_train)\n",
    "    \n",
    "    #Returns the training parameters.\n",
    "    params = alg.get_params(True)\n",
    "    print params\n",
    "    return alg,Y_hat"
   ]
  },
  {
   "cell_type": "code",
   "execution_count": null,
   "metadata": {
    "collapsed": true
   },
   "outputs": [],
   "source": [
    "\n",
    "def run_RF_alg(df,df_test,N):\n",
    "    '''\n",
    "    Wrapper for the RF. \n",
    "    Input: \n",
    "    - df (train)\n",
    "    - df_test (Test)\n",
    "    - N (number of trees)\n",
    "    Output:\n",
    "    - Y_train (train target values)\n",
    "    - X_train (train features)\n",
    "    - X_test (test features)\n",
    "    - alg (trained values)\n",
    "    - Y_hat (test target predictions)\n",
    "    - score (R^2 value)\n",
    "    - RMSE (RMSE score)\n",
    "    - chi_score (Chi^2 score)\n",
    "    - pval (Chi^2 P value)\n",
    "    '''\n",
    "    \n",
    "    #Generate attribute and predictors feature lists\n",
    "    columns = df.columns\n",
    "    attribute = columns[-1]\n",
    "    predictors = columns[:-1]\n",
    "    \n",
    "    print predictors\n",
    "\n",
    "    #Select data by features\n",
    "    Y_train = df[attribute]\n",
    "    X_train = df[predictors]\n",
    "    X_test = df_test[predictors]\n",
    "    \n",
    "    #Run Ramdom Forest Model\n",
    "    alg,Y_hat = RF(X_train,Y_train,N)\n",
    "\n",
    "    #Score Train prediction\n",
    "    score = metric.r2_score(Y_train.values,Y_hat)\n",
    "    RMSE = metric.mean_squared_error(Y_train.values,Y_hat)\n",
    "    chi_score, pval = chisquare(Y_train.values, Y_hat)\n",
    "    \n",
    "    return Y_train,X_train,X_test,alg,Y_hat,score,RMSE,chi_score,pval"
   ]
  },
  {
   "cell_type": "code",
   "execution_count": 65,
   "metadata": {
    "collapsed": false
   },
   "outputs": [],
   "source": [
    "def read_data(file_ext):\n",
    "    '''\n",
    "    Read in data from a given set based on a string\n",
    "    input:\n",
    "    - file_ext (common file extension string)\n",
    "    Output:\n",
    "    - df (processed training data)\n",
    "    - df_test (processed testing data)\n",
    "    - Id (Id numbers to be used later)\n",
    "    '''\n",
    "    \n",
    "    #Read the pre-prepa\n",
    "    df = pd.read_csv('data/processed/train_{}.csv'.format(file_ext))\n",
    "    df = df.drop('Unnamed: 0', 1)\n",
    "    df = df.fillna(value=0)\n",
    "    \n",
    "    #Read the test data set (extract and save the ID column for later)\n",
    "    df_test = pd.read_csv('data/processed/test_{}.csv'.format(file_ext))\n",
    "    df_test_ID.rename(columns={'Unnamed: 0':'Id'},inplace=True)\n",
    "    Id = df_test_ID['Id']\n",
    "    df_test = df_test.drop('Unnamed: 0', 1)\n",
    "    df_test = df_test.fillna(value=0)\n",
    "\n",
    "    return df,df_test,Id"
   ]
  },
  {
   "cell_type": "code",
   "execution_count": 66,
   "metadata": {
    "collapsed": false
   },
   "outputs": [],
   "source": [
    "def submission_prep(Id,df_test,sub_title):\n",
    "    '''\n",
    "    Prepare the submission file.\n",
    "    Input: \n",
    "    - Id (data frame)\n",
    "    - df_test (updated test data with target predictions)\n",
    "    - sub_title (submission file string of the format 'houseprice_{}')\n",
    "    Output:\n",
    "    - df_submission (df with submission)\n",
    "    '''\n",
    "    #read in test data to \n",
    "    SP = df_test['SalePrice']\n",
    "\n",
    "    df_submission = pd.DataFrame(data=SP)\n",
    "    df_submission = df_submission.set_index(Id)\n",
    "    df_submission.to_csv('submissions/houseprice_{}.csv'.format(sub_title))\n",
    "    \n",
    "    return df_submission"
   ]
  },
  {
   "cell_type": "code",
   "execution_count": 71,
   "metadata": {
    "collapsed": false
   },
   "outputs": [
    {
     "name": "stdout",
     "output_type": "stream",
     "text": [
      "Index([u'LotFrontage', u'LotArea', u'OverallQual', u'OverallCond',\n",
      "       u'YearBuilt', u'YearRemodAdd', u'MasVnrArea', u'BsmtFinSF1',\n",
      "       u'BsmtFinSF2', u'BsmtUnfSF', u'TotalBsmtSF', u'1stFlrSF', u'2ndFlrSF',\n",
      "       u'LowQualFinSF', u'GrLivArea', u'BsmtFullBath', u'BsmtHalfBath',\n",
      "       u'FullBath', u'HalfBath', u'BedroomAbvGr', u'KitchenAbvGr',\n",
      "       u'TotRmsAbvGrd', u'Fireplaces', u'GarageYrBlt', u'GarageCars',\n",
      "       u'GarageArea', u'WoodDeckSF', u'OpenPorchSF', u'EnclosedPorch',\n",
      "       u'3SsnPorch', u'ScreenPorch', u'PoolArea', u'MiscVal', u'MoSold',\n",
      "       u'YrSold'],\n",
      "      dtype='object')\n",
      "{'warm_start': False, 'oob_score': False, 'n_jobs': 1, 'verbose': 0, 'max_leaf_nodes': None, 'bootstrap': True, 'min_samples_leaf': 1, 'n_estimators': 1000, 'min_samples_split': 2, 'min_weight_fraction_leaf': 0.0, 'criterion': 'mse', 'random_state': None, 'max_features': 'auto', 'max_depth': None}\n",
      "R-squ: 0.981\n",
      "Chi-squ: 743600.0\n",
      "RMSE: 19.0\n"
     ]
    },
    {
     "data": {
      "text/html": [
       "<div>\n",
       "<table border=\"1\" class=\"dataframe\">\n",
       "  <thead>\n",
       "    <tr style=\"text-align: right;\">\n",
       "      <th></th>\n",
       "      <th>SalePrice</th>\n",
       "    </tr>\n",
       "    <tr>\n",
       "      <th>Id</th>\n",
       "      <th></th>\n",
       "    </tr>\n",
       "  </thead>\n",
       "  <tbody>\n",
       "    <tr>\n",
       "      <th>0</th>\n",
       "      <td>127550.032</td>\n",
       "    </tr>\n",
       "    <tr>\n",
       "      <th>1</th>\n",
       "      <td>155330.255</td>\n",
       "    </tr>\n",
       "    <tr>\n",
       "      <th>2</th>\n",
       "      <td>182137.897</td>\n",
       "    </tr>\n",
       "    <tr>\n",
       "      <th>3</th>\n",
       "      <td>184119.316</td>\n",
       "    </tr>\n",
       "    <tr>\n",
       "      <th>4</th>\n",
       "      <td>199027.312</td>\n",
       "    </tr>\n",
       "  </tbody>\n",
       "</table>\n",
       "</div>"
      ],
      "text/plain": [
       "     SalePrice\n",
       "Id            \n",
       "0   127550.032\n",
       "1   155330.255\n",
       "2   182137.897\n",
       "3   184119.316\n",
       "4   199027.312"
      ]
     },
     "execution_count": 71,
     "metadata": {},
     "output_type": "execute_result"
    }
   ],
   "source": [
    "#Run the Random Forest\n",
    "\n",
    "#target data file to run\n",
    "file_ext = 'numeric'\n",
    "\n",
    "#Read data\n",
    "df,df_test,Id = read_data(file_ext)\n",
    "\n",
    "#Run RF\n",
    "Y_train,X_train,X_test,alg,Y_hat,score,RMSE,chi_score,pval = run_RF_alg(df,df_test,1000)\n",
    "\n",
    "#Print scores\n",
    "print 'R-squ:',round(score,3)\n",
    "print 'Chi-squ:',round(chi_score,-2)\n",
    "print 'RMSE:',round(np.log(RMSE),0)\n",
    "\n",
    "#Run predictions\n",
    "Y_hat_test = alg.predict(X_test)\n",
    "\n",
    "#Add the prediction to the test data\n",
    "df_test['SalePrice'] = pd.Series(Y_hat_test, index=df_test.index)\n",
    "\n",
    "#Prepare submission file\n",
    "df_submission = submission_prep(Id,df_test,'RF_basic_submission_4')\n",
    "\n",
    "df_submission.head()"
   ]
  },
  {
   "cell_type": "code",
   "execution_count": null,
   "metadata": {
    "collapsed": false
   },
   "outputs": [],
   "source": [
    "#Run the Random Forest\n",
    "\n",
    "#target data file to run\n",
    "file_ext = 'hi_corr'\n",
    "\n",
    "#Read data\n",
    "df,df_test,Id = read_data(file_ext)\n",
    "\n",
    "#Run RF\n",
    "Y_train,X_train,X_test,alg,Y_hat,score,RMSE,chi_score,pval = run_RF_alg(df,df_test,100000)\n",
    "\n",
    "#Print scores\n",
    "print 'R-squ:',round(score,3)\n",
    "print 'Chi-squ:',round(chi_score,-2)\n",
    "print 'RMSE:',round(np.log(RMSE),0)\n",
    "\n",
    "#Run predictions\n",
    "Y_hat_test = alg.predict(X_test)\n",
    "\n",
    "#Add the prediction to the test data\n",
    "df_test['SalePrice'] = pd.Series(Y_hat_test, index=df_test.index)\n",
    "\n",
    "#Prepare submission file\n",
    "df_submission = submission_prep(Id,df_test,'RF_Reduced_submission_lrg')\n",
    "\n",
    "df_submission.head()"
   ]
  },
  {
   "cell_type": "code",
   "execution_count": null,
   "metadata": {
    "collapsed": false
   },
   "outputs": [],
   "source": []
  },
  {
   "cell_type": "code",
   "execution_count": null,
   "metadata": {
    "collapsed": false
   },
   "outputs": [],
   "source": []
  },
  {
   "cell_type": "code",
   "execution_count": null,
   "metadata": {
    "collapsed": false
   },
   "outputs": [],
   "source": []
  },
  {
   "cell_type": "code",
   "execution_count": null,
   "metadata": {
    "collapsed": false
   },
   "outputs": [],
   "source": []
  },
  {
   "cell_type": "code",
   "execution_count": null,
   "metadata": {
    "collapsed": false
   },
   "outputs": [],
   "source": []
  },
  {
   "cell_type": "code",
   "execution_count": null,
   "metadata": {
    "collapsed": false
   },
   "outputs": [],
   "source": []
  },
  {
   "cell_type": "code",
   "execution_count": null,
   "metadata": {
    "collapsed": false
   },
   "outputs": [],
   "source": []
  },
  {
   "cell_type": "code",
   "execution_count": null,
   "metadata": {
    "collapsed": true
   },
   "outputs": [],
   "source": []
  },
  {
   "cell_type": "code",
   "execution_count": null,
   "metadata": {
    "collapsed": true
   },
   "outputs": [],
   "source": []
  },
  {
   "cell_type": "code",
   "execution_count": null,
   "metadata": {
    "collapsed": true
   },
   "outputs": [],
   "source": []
  },
  {
   "cell_type": "code",
   "execution_count": null,
   "metadata": {
    "collapsed": true
   },
   "outputs": [],
   "source": []
  }
 ],
 "metadata": {
  "anaconda-cloud": {},
  "kernelspec": {
   "display_name": "Python [Root]",
   "language": "python",
   "name": "Python [Root]"
  },
  "language_info": {
   "codemirror_mode": {
    "name": "ipython",
    "version": 2
   },
   "file_extension": ".py",
   "mimetype": "text/x-python",
   "name": "python",
   "nbconvert_exporter": "python",
   "pygments_lexer": "ipython2",
   "version": "2.7.12"
  }
 },
 "nbformat": 4,
 "nbformat_minor": 0
}
